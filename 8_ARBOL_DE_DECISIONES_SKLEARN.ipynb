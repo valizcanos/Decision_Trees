{
 "cells": [
  {
   "cell_type": "code",
   "execution_count": 1,
   "metadata": {},
   "outputs": [],
   "source": [
    "#Para los cálculos matemáticos\n",
    "import numpy as np\n",
    "#Para el manejo de datos\n",
    "import pandas as pd\n",
    "#Importar librería para realizar un árbol de decisiones\n",
    "from sklearn.tree import DecisionTreeClassifier"
   ]
  },
  {
   "cell_type": "code",
   "execution_count": 2,
   "metadata": {},
   "outputs": [
    {
     "data": {
      "text/html": [
       "<div>\n",
       "<style scoped>\n",
       "    .dataframe tbody tr th:only-of-type {\n",
       "        vertical-align: middle;\n",
       "    }\n",
       "\n",
       "    .dataframe tbody tr th {\n",
       "        vertical-align: top;\n",
       "    }\n",
       "\n",
       "    .dataframe thead th {\n",
       "        text-align: right;\n",
       "    }\n",
       "</style>\n",
       "<table border=\"1\" class=\"dataframe\">\n",
       "  <thead>\n",
       "    <tr style=\"text-align: right;\">\n",
       "      <th></th>\n",
       "      <th>buying</th>\n",
       "      <th>maint</th>\n",
       "      <th>doors</th>\n",
       "      <th>persons</th>\n",
       "      <th>lug_boot</th>\n",
       "      <th>safety</th>\n",
       "      <th>values</th>\n",
       "    </tr>\n",
       "  </thead>\n",
       "  <tbody>\n",
       "    <tr>\n",
       "      <th>0</th>\n",
       "      <td>4</td>\n",
       "      <td>4</td>\n",
       "      <td>2</td>\n",
       "      <td>2</td>\n",
       "      <td>1</td>\n",
       "      <td>1</td>\n",
       "      <td>unacc</td>\n",
       "    </tr>\n",
       "    <tr>\n",
       "      <th>1</th>\n",
       "      <td>4</td>\n",
       "      <td>4</td>\n",
       "      <td>2</td>\n",
       "      <td>2</td>\n",
       "      <td>1</td>\n",
       "      <td>2</td>\n",
       "      <td>unacc</td>\n",
       "    </tr>\n",
       "    <tr>\n",
       "      <th>2</th>\n",
       "      <td>4</td>\n",
       "      <td>4</td>\n",
       "      <td>2</td>\n",
       "      <td>2</td>\n",
       "      <td>1</td>\n",
       "      <td>3</td>\n",
       "      <td>unacc</td>\n",
       "    </tr>\n",
       "    <tr>\n",
       "      <th>3</th>\n",
       "      <td>4</td>\n",
       "      <td>4</td>\n",
       "      <td>2</td>\n",
       "      <td>2</td>\n",
       "      <td>2</td>\n",
       "      <td>1</td>\n",
       "      <td>unacc</td>\n",
       "    </tr>\n",
       "    <tr>\n",
       "      <th>4</th>\n",
       "      <td>4</td>\n",
       "      <td>4</td>\n",
       "      <td>2</td>\n",
       "      <td>2</td>\n",
       "      <td>2</td>\n",
       "      <td>2</td>\n",
       "      <td>unacc</td>\n",
       "    </tr>\n",
       "  </tbody>\n",
       "</table>\n",
       "</div>"
      ],
      "text/plain": [
       "   buying  maint  doors  persons  lug_boot  safety values\n",
       "0       4      4      2        2         1       1  unacc\n",
       "1       4      4      2        2         1       2  unacc\n",
       "2       4      4      2        2         1       3  unacc\n",
       "3       4      4      2        2         2       1  unacc\n",
       "4       4      4      2        2         2       2  unacc"
      ]
     },
     "execution_count": 2,
     "metadata": {},
     "output_type": "execute_result"
    }
   ],
   "source": [
    "#Importar archivo csv\n",
    "df = pd.read_csv('data_dt.csv')\n",
    "df.head()"
   ]
  },
  {
   "cell_type": "code",
   "execution_count": 3,
   "metadata": {},
   "outputs": [],
   "source": [
    "#Preparar los datos para el entrenamiento\n",
    "\n",
    "x_train = df.loc[:,'buying':'safety']\n",
    "y_train = df.loc[:, 'values']"
   ]
  },
  {
   "cell_type": "code",
   "execution_count": 4,
   "metadata": {},
   "outputs": [
    {
     "data": {
      "text/plain": [
       "DecisionTreeClassifier(class_weight=None, criterion='gini', max_depth=None,\n",
       "            max_features=None, max_leaf_nodes=3, min_impurity_decrease=0.0,\n",
       "            min_impurity_split=None, min_samples_leaf=1,\n",
       "            min_samples_split=2, min_weight_fraction_leaf=0.0,\n",
       "            presort=False, random_state=0, splitter='best')"
      ]
     },
     "execution_count": 4,
     "metadata": {},
     "output_type": "execute_result"
    }
   ],
   "source": [
    "#Entrenamiento del modelo\n",
    "\n",
    "tree = DecisionTreeClassifier(max_leaf_nodes=3, random_state=0)\n",
    "tree.fit(x_train, y_train)"
   ]
  },
  {
   "cell_type": "code",
   "execution_count": 5,
   "metadata": {},
   "outputs": [
    {
     "name": "stdout",
     "output_type": "stream",
     "text": [
      "      buying  maint  doors  persons  lug_boot  safety\n",
      "0          4      4      2        2         1       1\n",
      "1          4      4      2        2         1       2\n",
      "2          4      4      2        2         1       3\n",
      "3          4      4      2        2         2       1\n",
      "4          4      4      2        2         2       2\n",
      "5          4      4      2        2         2       3\n",
      "6          4      4      2        2         3       1\n",
      "7          4      4      2        2         3       2\n",
      "8          4      4      2        2         3       3\n",
      "9          4      4      2        4         1       1\n",
      "10         4      4      2        4         1       2\n",
      "11         4      4      2        4         1       3\n",
      "12         4      4      2        4         2       1\n",
      "13         4      4      2        4         2       2\n",
      "14         4      4      2        4         2       3\n",
      "15         4      4      2        4         3       1\n",
      "16         4      4      2        4         3       2\n",
      "17         4      4      2        4         3       3\n",
      "18         4      4      2        5         1       1\n",
      "19         4      4      2        5         1       2\n",
      "20         4      4      2        5         1       3\n",
      "21         4      4      2        5         2       1\n",
      "22         4      4      2        5         2       2\n",
      "23         4      4      2        5         2       3\n",
      "24         4      4      2        5         3       1\n",
      "25         4      4      2        5         3       2\n",
      "26         4      4      2        5         3       3\n",
      "27         4      4      3        2         1       1\n",
      "28         4      4      3        2         1       2\n",
      "29         4      4      3        2         1       3\n",
      "...      ...    ...    ...      ...       ...     ...\n",
      "1698       1      1      4        5         3       1\n",
      "1699       1      1      4        5         3       2\n",
      "1700       1      1      4        5         3       3\n",
      "1701       1      1      5        2         1       1\n",
      "1702       1      1      5        2         1       2\n",
      "1703       1      1      5        2         1       3\n",
      "1704       1      1      5        2         2       1\n",
      "1705       1      1      5        2         2       2\n",
      "1706       1      1      5        2         2       3\n",
      "1707       1      1      5        2         3       1\n",
      "1708       1      1      5        2         3       2\n",
      "1709       1      1      5        2         3       3\n",
      "1710       1      1      5        4         1       1\n",
      "1711       1      1      5        4         1       2\n",
      "1712       1      1      5        4         1       3\n",
      "1713       1      1      5        4         2       1\n",
      "1714       1      1      5        4         2       2\n",
      "1715       1      1      5        4         2       3\n",
      "1716       1      1      5        4         3       1\n",
      "1717       1      1      5        4         3       2\n",
      "1718       1      1      5        4         3       3\n",
      "1719       1      1      5        5         1       1\n",
      "1720       1      1      5        5         1       2\n",
      "1721       1      1      5        5         1       3\n",
      "1722       1      1      5        5         2       1\n",
      "1723       1      1      5        5         2       2\n",
      "1724       1      1      5        5         2       3\n",
      "1725       1      1      5        5         3       1\n",
      "1726       1      1      5        5         3       2\n",
      "1727       1      1      5        5         3       3\n",
      "\n",
      "[1728 rows x 6 columns]\n"
     ]
    }
   ],
   "source": [
    "print(x_train)"
   ]
  },
  {
   "cell_type": "code",
   "execution_count": 6,
   "metadata": {},
   "outputs": [
    {
     "name": "stdout",
     "output_type": "stream",
     "text": [
      "0       unacc\n",
      "1       unacc\n",
      "2       unacc\n",
      "3       unacc\n",
      "4       unacc\n",
      "5       unacc\n",
      "6       unacc\n",
      "7       unacc\n",
      "8       unacc\n",
      "9       unacc\n",
      "10      unacc\n",
      "11      unacc\n",
      "12      unacc\n",
      "13      unacc\n",
      "14      unacc\n",
      "15      unacc\n",
      "16      unacc\n",
      "17      unacc\n",
      "18      unacc\n",
      "19      unacc\n",
      "20      unacc\n",
      "21      unacc\n",
      "22      unacc\n",
      "23      unacc\n",
      "24      unacc\n",
      "25      unacc\n",
      "26      unacc\n",
      "27      unacc\n",
      "28      unacc\n",
      "29      unacc\n",
      "        ...  \n",
      "1698    unacc\n",
      "1699     good\n",
      "1700    vgood\n",
      "1701    unacc\n",
      "1702    unacc\n",
      "1703    unacc\n",
      "1704    unacc\n",
      "1705    unacc\n",
      "1706    unacc\n",
      "1707    unacc\n",
      "1708    unacc\n",
      "1709    unacc\n",
      "1710    unacc\n",
      "1711      acc\n",
      "1712     good\n",
      "1713    unacc\n",
      "1714     good\n",
      "1715    vgood\n",
      "1716    unacc\n",
      "1717     good\n",
      "1718    vgood\n",
      "1719    unacc\n",
      "1720      acc\n",
      "1721     good\n",
      "1722    unacc\n",
      "1723     good\n",
      "1724    vgood\n",
      "1725    unacc\n",
      "1726     good\n",
      "1727    vgood\n",
      "Name: values, Length: 1728, dtype: object\n"
     ]
    }
   ],
   "source": [
    "print(y_train)"
   ]
  },
  {
   "cell_type": "code",
   "execution_count": 7,
   "metadata": {},
   "outputs": [
    {
     "name": "stdout",
     "output_type": "stream",
     "text": [
      "['unacc']\n"
     ]
    }
   ],
   "source": [
    "#Evaluar el modelo\n",
    "\n",
    "prediction = tree.predict([[4,3,2,1,2,3]])\n",
    "print(prediction)"
   ]
  },
  {
   "cell_type": "code",
   "execution_count": null,
   "metadata": {},
   "outputs": [],
   "source": []
  }
 ],
 "metadata": {
  "kernelspec": {
   "display_name": "Python 3",
   "language": "python",
   "name": "python3"
  },
  "language_info": {
   "codemirror_mode": {
    "name": "ipython",
    "version": 3
   },
   "file_extension": ".py",
   "mimetype": "text/x-python",
   "name": "python",
   "nbconvert_exporter": "python",
   "pygments_lexer": "ipython3",
   "version": "3.7.2"
  }
 },
 "nbformat": 4,
 "nbformat_minor": 2
}
